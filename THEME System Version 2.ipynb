{
 "cells": [
  {
   "cell_type": "markdown",
   "metadata": {},
   "source": [
    "Import all necessary programs. I'm testing the program using Gide's \"Isabelle\", a text similar to the ones studied by Fortier. "
   ]
  },
  {
   "cell_type": "code",
   "execution_count": 85,
   "metadata": {},
   "outputs": [],
   "source": [
    "import os, re"
   ]
  },
  {
   "cell_type": "code",
   "execution_count": 3,
   "metadata": {},
   "outputs": [],
   "source": [
    "import nltk"
   ]
  },
  {
   "cell_type": "code",
   "execution_count": null,
   "metadata": {},
   "outputs": [],
   "source": [
    "from french_lefff_lemmatizer.french_lefff_lemmatizer import FrenchLefffLemmatizer\n"
   ]
  },
  {
   "cell_type": "code",
   "execution_count": 41,
   "metadata": {},
   "outputs": [
    {
     "name": "stdout",
     "output_type": "stream",
     "text": [
      "mkdir: cmd: File exists\n",
      "mkdir: lib: File exists\n",
      "mkdir: bin: File exists\n",
      "mkdir: doc: File exists\n",
      "\n",
      "TreeTagger version for Mac OS-X installed.\n",
      "Tagging scripts installed.\n",
      "French parameter file installed.\n",
      "Path variables modified in tagging scripts.\n",
      "\n",
      "You might want to add /Users/kaylinland/Documents/RAshipSinclair/Fortier/TreeTagger/cmd and /Users/kaylinland/Documents/RAshipSinclair/Fortier/TreeTagger/bin to the PATH variable so that you do not need to specify the full path to run the tagging scripts.\n",
      "\n"
     ]
    }
   ],
   "source": [
    "import os\n",
    "os.getcwd()\n",
    "os.chdir(\"/Users/kaylinland/Documents/RAshipSinclair/Fortier/TreeTagger\")\n",
    "\n",
    "import sys\n",
    "!sh install-tagger.sh\n",
    "\n",
    "os.listdir(os.getcwd())\n",
    "os.listdir(os.getcwd()+\"/treetagger-python\")\n",
    "\n",
    "from treetagger import TreeTagger\n"
   ]
  },
  {
   "cell_type": "code",
   "execution_count": 4,
   "metadata": {},
   "outputs": [],
   "source": [
    "isabelleGide = \"/Users/kaylinland/Documents/RAshipSinclair/Fortier/Isabelle_Gide.txt\""
   ]
  },
  {
   "cell_type": "code",
   "execution_count": 53,
   "metadata": {},
   "outputs": [],
   "source": [
    "with open(\"/Users/kaylinland/Documents/RAshipSinclair/Fortier/Isabelle_Gide.txt\", \"r\") as f:\n",
    "    IsabelleText = f.read()"
   ]
  },
  {
   "cell_type": "code",
   "execution_count": null,
   "metadata": {},
   "outputs": [],
   "source": [
    "NUM\tnumeral\n",
    "PUN\tpunctuation\n",
    "PUN:cit\tpunctuation citation\n",
    "SENT\tsentence tag\n",
    "SYM\tsymbol"
   ]
  },
  {
   "cell_type": "code",
   "execution_count": 97,
   "metadata": {},
   "outputs": [],
   "source": [
    "def fileinput(filename, keyword):\n",
    "    file = open(filename, \"r\")\n",
    "    filestring = file.read()\n",
    "    \n",
    "    tokens1 = nltk.word_tokenize(filestring.lower())\n",
    "    tokens2 = [word for word in tokens1 if word[0].isalpha()]\n",
    "    \n",
    "    lemmatizer = FrenchLefffLemmatizer()\n",
    "    #tokenslemmatized = [lemmatizer.lemmatize(word) for word in tokens]\n",
    "    \n",
    "    tt = TreeTagger(\"/Users/kaylinland/Documents/RAshipSinclair/Fortier/TreeTagger/\", language=\"french\")\n",
    "    treetags = tt.tag(tokens1)\n",
    "    punctag = re.compile(\"PUN\")\n",
    "    senttag = re.compile(\"SENT\")\n",
    "    numtag = re.compile(\"NUM\")\n",
    "    symtag = re.compile(\"SYM\")\n",
    "    treetokens = [x for x in treetags if not (punctag.search(x[1]) \n",
    "              or senttag.search(x[1]) or numtag.search(x[1]) or symtag.search(x[1])) ]\n",
    "    #treetokens = [[x[0],x[1],lemmatizer.lemmatize(x[0])] for x in treetags if x[2] == '<unknown>']\n",
    "    \n",
    "    textObject = nltk.Text(tokens2)\n",
    "    textConcordance = textObject.concordance(keyword, lines=10)\n",
    "    textConcordancePositions = nltk.ConcordanceIndex(keyword)\n",
    "    return([textConcordancePositions, treetokens[0:10]])\n"
   ]
  },
  {
   "cell_type": "code",
   "execution_count": 98,
   "metadata": {},
   "outputs": [
    {
     "name": "stdout",
     "output_type": "stream",
     "text": [
      "Displaying 10 of 663 matches:\n",
      "isabelle par andre gide a andre ruyters gerard lacase chez qui n\n",
      " delaisse ou l'ete fastueux s'eployait a l'aventure rien plus n'en defendait l'\n",
      " plus n'en defendait l'entree le fosse a demi comble la haie crevee ni la grill\n",
      "a grille descellee qui ceda de travers a notre premier coup d'epaule plus d'all\n",
      "le frais au creux des massifs eventres a peine distinguait-on de ci de la parmi\n",
      " poussait dans la penombre de la salle a manger d'enormes tiges blanches et mol\n",
      "ous avait-il precedes au premier etage a travers la desolation des chambres nue\n",
      " de bois pendait encore au mur retenue a une sorte d'agrafe par une faveur deco\n",
      "vre nous rentrames seuls jammes et moi a la r. ou gerard nous rejoignit dans la\n",
      "tot jammes apprenez que je suis resolu a ne plus raconter la moindre histoire q\n"
     ]
    },
    {
     "data": {
      "text/plain": [
       "[<ConcordanceIndex for 1 tokens (1 types)>,\n",
       " [['isabelle', 'ADJ', 'isabelle'],\n",
       "  ['par', 'PRP', 'par'],\n",
       "  ['andre', 'NOM', '<unknown>'],\n",
       "  ['gide', 'ADJ', '<unknown>'],\n",
       "  ['a', 'VER:pres', 'avoir'],\n",
       "  ['andre', 'ADJ', '<unknown>'],\n",
       "  ['ruyters', 'NOM', '<unknown>'],\n",
       "  ['gerard', 'NOM', '<unknown>'],\n",
       "  ['lacase', 'ADJ', '<unknown>'],\n",
       "  ['chez', 'PRP', 'chez']]]"
      ]
     },
     "execution_count": 98,
     "metadata": {},
     "output_type": "execute_result"
    }
   ],
   "source": [
    "fileinput(isabelleGide, \"a\")"
   ]
  },
  {
   "cell_type": "code",
   "execution_count": 11,
   "metadata": {},
   "outputs": [
    {
     "name": "stdout",
     "output_type": "stream",
     "text": [
      "Displaying 10 of 34 matches:\n",
      "osite le revetait naguere apportez a votre recit tout le desordre qu'il vous pl\n",
      "t que j'eusse fini pour desservir et votre chambre comment feriez-vous pour la \n",
      "e c'est un aventurier de la pensee a votre age on est assez facilement seduit p\n",
      "viez bien dormi et si le lit etait a votre convenance je protestai que j y avai\n",
      "timidite de l'enfant me genait c'est votre petit-fils demandai-je a madame floc\n",
      "a personne puisqu'il pourra servir a votre these en toute nouveaute je me defen\n",
      "eau tout le merite de ma these c'est votre obligeance que je le devrai au moins\n",
      "s s'arretant de marcher par effet de votre complaisance cher monsieur lacase j'\n",
      "trouver un pretexte pour sortir avec votre petit neveu il me fera visiter quelq\n",
      "que je ralentissais mon allure c'est votre travail cette these oh non fit-il au\n"
     ]
    },
    {
     "data": {
      "text/plain": [
       "<ConcordanceIndex for 5 tokens (5 types)>"
      ]
     },
     "execution_count": 11,
     "metadata": {},
     "output_type": "execute_result"
    }
   ],
   "source": [
    "fileinput(isabelleGide, \"votre\")"
   ]
  },
  {
   "cell_type": "code",
   "execution_count": 34,
   "metadata": {},
   "outputs": [
    {
     "data": {
      "text/plain": [
       "'avion'"
      ]
     },
     "execution_count": 34,
     "metadata": {},
     "output_type": "execute_result"
    }
   ],
   "source": [
    "from nltk.stem.snowball import SnowballStemmer\n",
    "stemmer = SnowballStemmer(\"french\")\n",
    "stemmer.stem(\"avions\")"
   ]
  },
  {
   "cell_type": "code",
   "execution_count": 27,
   "metadata": {},
   "outputs": [
    {
     "data": {
      "text/plain": [
       "'avion'"
      ]
     },
     "execution_count": 27,
     "metadata": {},
     "output_type": "execute_result"
    }
   ],
   "source": [
    "from french_lefff_lemmatizer.french_lefff_lemmatizer import FrenchLefffLemmatizer\n",
    "lemmatizer = FrenchLefffLemmatizer()\n",
    "lemmatizer.lemmatize(\"avions\")"
   ]
  },
  {
   "cell_type": "code",
   "execution_count": 29,
   "metadata": {},
   "outputs": [
    {
     "data": {
      "text/plain": [
       "'rester'"
      ]
     },
     "execution_count": 29,
     "metadata": {},
     "output_type": "execute_result"
    }
   ],
   "source": [
    "lemmatizer.lemmatize(\"rester\")"
   ]
  },
  {
   "cell_type": "code",
   "execution_count": 42,
   "metadata": {},
   "outputs": [
    {
     "data": {
      "text/plain": [
       "[['Bonjour', 'NOM', 'bonjour'],\n",
       " ['tout', 'ADV', 'tout'],\n",
       " ['les', 'DET:ART', 'le'],\n",
       " ['avions', 'NOM', 'avion']]"
      ]
     },
     "execution_count": 42,
     "metadata": {},
     "output_type": "execute_result"
    }
   ],
   "source": [
    "tt = TreeTagger(\"/Users/kaylinland/Documents/RAshipSinclair/Fortier/TreeTagger/\", language=\"french\")\n",
    "tt.tag('Bonjour tout les avions')"
   ]
  },
  {
   "cell_type": "code",
   "execution_count": 44,
   "metadata": {},
   "outputs": [
    {
     "data": {
      "text/plain": [
       "'/Users/kaylinland/Documents/RAshipSinclair/Fortier/Isabelle_Gide.txt'"
      ]
     },
     "execution_count": 44,
     "metadata": {},
     "output_type": "execute_result"
    }
   ],
   "source": [
    "isabelleGide"
   ]
  },
  {
   "cell_type": "code",
   "execution_count": 52,
   "metadata": {},
   "outputs": [
    {
     "data": {
      "text/plain": [
       "[['Je', 'PRO:PER', 'je'],\n",
       " [\"t'\", 'PRO:PER', 'te'],\n",
       " ['aime', 'VER:pres', 'aimer']]"
      ]
     },
     "execution_count": 52,
     "metadata": {},
     "output_type": "execute_result"
    }
   ],
   "source": [
    "tt.tag(\"Je t'aime\")"
   ]
  },
  {
   "cell_type": "code",
   "execution_count": 80,
   "metadata": {},
   "outputs": [
    {
     "data": {
      "text/plain": [
       "['Je', \"t'\", 'aime', '.', 'Je', 'vous', 'en', 'prie', '.', 'Allons', '-y', '.']"
      ]
     },
     "execution_count": 80,
     "metadata": {},
     "output_type": "execute_result"
    }
   ],
   "source": [
    "[x[0] for x in tt.tag(\"Je t'aime. Je vous en prie. Allons-y.\")]"
   ]
  },
  {
   "cell_type": "code",
   "execution_count": 81,
   "metadata": {},
   "outputs": [
    {
     "data": {
      "text/plain": [
       "['PRO:PER',\n",
       " 'PRO:PER',\n",
       " 'VER:pres',\n",
       " 'SENT',\n",
       " 'PRO:PER',\n",
       " 'PRO:PER',\n",
       " 'PRO:PER',\n",
       " 'VER:pres',\n",
       " 'SENT',\n",
       " 'VER:pres',\n",
       " 'PRO:PER',\n",
       " 'SENT']"
      ]
     },
     "execution_count": 81,
     "metadata": {},
     "output_type": "execute_result"
    }
   ],
   "source": [
    "[x[1] for x in tt.tag(\"Je t'aime. Je vous en prie. Allons-y.\")]"
   ]
  },
  {
   "cell_type": "code",
   "execution_count": 82,
   "metadata": {},
   "outputs": [
    {
     "data": {
      "text/plain": [
       "['je', 'te', 'aimer', '.', 'je', 'vous', 'en', 'prier', '.', 'aller', 'y', '.']"
      ]
     },
     "execution_count": 82,
     "metadata": {},
     "output_type": "execute_result"
    }
   ],
   "source": [
    "[x[2] for x in tt.tag(\"Je t'aime. Je vous en prie. Allons-y.\")]"
   ]
  },
  {
   "cell_type": "code",
   "execution_count": 84,
   "metadata": {},
   "outputs": [
    {
     "data": {
      "text/plain": [
       "[['Je', 'je'],\n",
       " [\"t'\", 'te'],\n",
       " ['aime', 'aimer'],\n",
       " ['.', '.'],\n",
       " ['Je', 'je'],\n",
       " ['vous', 'vous'],\n",
       " ['en', 'en'],\n",
       " ['prie', 'prier'],\n",
       " ['.', '.'],\n",
       " ['Allons', 'aller'],\n",
       " ['-y', 'y'],\n",
       " ['.', '.']]"
      ]
     },
     "execution_count": 84,
     "metadata": {},
     "output_type": "execute_result"
    }
   ],
   "source": [
    "[[x[0], x[2]] for x in tt.tag(\"Je t'aime. Je vous en prie. Allons-y.\")]"
   ]
  },
  {
   "cell_type": "code",
   "execution_count": null,
   "metadata": {},
   "outputs": [],
   "source": []
  }
 ],
 "metadata": {
  "kernelspec": {
   "display_name": "Python 3",
   "language": "python",
   "name": "python3"
  },
  "language_info": {
   "codemirror_mode": {
    "name": "ipython",
    "version": 3
   },
   "file_extension": ".py",
   "mimetype": "text/x-python",
   "name": "python",
   "nbconvert_exporter": "python",
   "pygments_lexer": "ipython3",
   "version": "3.7.0"
  }
 },
 "nbformat": 4,
 "nbformat_minor": 2
}
