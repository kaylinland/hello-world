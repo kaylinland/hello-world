{
 "cells": [
  {
   "cell_type": "markdown",
   "metadata": {},
   "source": [
    "# Replicating Fortier's THEME System \n",
    "Fortier's THEME System was an algorithm based on symbolist theory that allowed literary scholars to identify patterns in synonym usage in works of French fiction. "
   ]
  },
  {
   "cell_type": "markdown",
   "metadata": {},
   "source": [
    "## Getting Started"
   ]
  },
  {
   "cell_type": "markdown",
   "metadata": {},
   "source": [
    "Import all necessary documentation. Choose literary text for use in THEME system. Text must be in .txt format, UTF-8 encoding. Ensure .txt file is located in locatable directory and that your notebook is also in this directory. The user must also download TreeTagger and all associated French parameter files. See here for directions: https://www.cis.uni-muenchen.de/~schmid/tools/TreeTagger/. TreeTagger was chosen for part of speech tagging because it reliably tags French POS and also provides a lemma for each tagged word. "
   ]
  },
  {
   "cell_type": "markdown",
   "metadata": {},
   "source": [
    "## Import Libraries"
   ]
  },
  {
   "cell_type": "code",
   "execution_count": 1,
   "metadata": {},
   "outputs": [
    {
     "name": "stdout",
     "output_type": "stream",
     "text": [
      "mkdir: cmd: File exists\n",
      "mkdir: lib: File exists\n",
      "mkdir: bin: File exists\n",
      "mkdir: doc: File exists\n",
      "\n",
      "TreeTagger version for Mac OS-X installed.\n",
      "Tagging scripts installed.\n",
      "French parameter file installed.\n",
      "Path variables modified in tagging scripts.\n",
      "\n",
      "You might want to add /Users/kaylinland/Documents/RAshipSinclair/Fortier/TreeTagger/cmd and /Users/kaylinland/Documents/RAshipSinclair/Fortier/TreeTagger/bin to the PATH variable so that you do not need to specify the full path to run the tagging scripts.\n",
      "\n"
     ]
    }
   ],
   "source": [
    "import os, re #to determine directories and use regex\n",
    "os.getcwd()\n",
    "os.chdir(\"/Users/kaylinland/Documents/RAshipSinclair/Fortier/TreeTagger\")#navigate to user directory with TreeTagger files\n",
    "import nltk\n",
    "import sys\n",
    "!sh install-tagger.sh #install TreeTagger\n",
    "from treetagger import TreeTagger #call TreeTagger\n",
    "from frenetic import * #Import API for using WOLF French wordnet in Python\n"
   ]
  },
  {
   "cell_type": "markdown",
   "metadata": {},
   "source": [
    "## THEME Function with Manual Synonym List\n",
    "This function allows the  user to manually input a list of synonyms to use in the THEME function. This function utilizes the Python API for WOLF. Code can be found here: https://github.com/hardik-vala/FreNetic. "
   ]
  },
  {
   "cell_type": "code",
   "execution_count": 2,
   "metadata": {},
   "outputs": [],
   "source": [
    "TreeTaggerDirectory = \"/Users/kaylinland/Documents/RAshipSinclair/Fortier/TreeTagger/\"#User enters directory\n",
    "\n",
    "def fileinput(filename, keywordList): #function allows user to input .txt file as filename and search list of word keywords\n",
    "    file = open(filename, \"r\")\n",
    "    filestring = file.read()\n",
    "    \n",
    "    regTokenizer = nltk.RegexpTokenizer(r'''\\w'|\\w+|[^\\w\\s]''')#French tokenizer accounts for liaisons\n",
    "    tokens1 = regTokenizer.tokenize(filestring.lower())#tokenize all words in .txt file and make lowercase\n",
    "    tokens2 = [word for word in tokens1 if word[0].isalpha()]#removes all non-alphabetical words like numbers\n",
    "    \n",
    "    tt = TreeTagger(TreeTaggerDirectory, language='french')#call TreeTagger\n",
    "    treetags = tt.tag(tokens2)\n",
    "    punctag = re.compile(\"PUN\")#create regex object to filter out POS tags that are not needed in THEME system\n",
    "    senttag = re.compile(\"SENT\")#regex object for sentence tagger\n",
    "    numtag = re.compile(\"NUM\")#regex object for number tag\n",
    "    symtag = re.compile(\"SYM\")#regex object for symbol\n",
    "    treetokens = [x for x in treetags if not (punctag.search(x[1]))\n",
    "        or senttag.search(x[1] or numtag.search(x[1]) or symtag.search(x[1]))]#remove unneeded POS tags\n",
    "    \n",
    "    allconcordances = []\n",
    "    for kw in keywordList:\n",
    "        matchset = set()#create set \n",
    "        for i, (word, pos, lemma) in enumerate(treetokens): \n",
    "            #if lemma == [word for word in keywordList] and word != [word for word in keywordList]:\n",
    "            if lemma == kw and word != kw:\n",
    "                matchset.add(word)#create set if lemma from text matches input keyword \n",
    "    \n",
    "        print(\"\\nword matches for \", kw, \": \", matchset)#print results\n",
    "    \n",
    "        textObject = nltk.Text(tokens2)#create nltk object for list of tokens\n",
    "    \n",
    "        print(\"\\nRunning Primary concordance for \", kw)\n",
    "        primaryConcordance = textObject.concordance(kw, lines=10)#creates Primary Concordance from text. Primary concordance is all concordances in instances where keyword appears as lemma\n",
    "        secondaryConcordance = [] #secondaryConcordance creates concordances that include all inflections of inputed keyword\n",
    "        for lemmamatch in matchset: \n",
    "            print(\"\\nRunning Secondary concordances for \", lemmamatch)\n",
    "            secondaryConcordance.append(textObject.concordance(lemmamatch, lines=10))#Secondary concordance\n",
    "            textConcordancePositions = nltk.ConcordanceIndex(kw)#add location of keywords in text\n",
    "        allconcordances.append([kw, primaryConcordance, secondaryConcordance, textConcordancePositions])\n",
    "    return(allconcordances)#return all concordances"
   ]
  },
  {
   "cell_type": "markdown",
   "metadata": {},
   "source": [
    "## Synonym Function\n",
    "This function creates a list of synonyms from a keyword inputted by the user. Researchers could utilize this function as a stand alone to obtain a list of synonyms. "
   ]
  },
  {
   "cell_type": "code",
   "execution_count": 3,
   "metadata": {},
   "outputs": [],
   "source": [
    "FreNeticDirectory = \"/Users/kaylinland/Documents/RAshipSinclair/Fortier/wolf-1.0b4.xml\" #Enter location with WOLF .xml file\n",
    "\n",
    "def synonyms(keyword): #create list of synonyms using French wordnet from chosen theme keyword\n",
    "       \n",
    "    fwn = FreNetic(FreNeticDirectory)\n",
    "    synset = fwn.synsets(keyword)#create synset object\n",
    "    #synonymlist = []\n",
    "    synonyms = set()\n",
    "    for synx in synset: #get list of all literals for chosen synset\n",
    "        for sy in synx.literals():\n",
    "            #synonymlist += (str(sy).split(' ')[0])\n",
    "            #synonymlist = synonymlist + (str(sy).split(' ')[0])\n",
    "            #synonymlist.append(str(sy).split(' ')[0])\n",
    "            synonyms.add(str(sy).split(' ')[0])\n",
    "    \n",
    "    return(synonyms)"
   ]
  },
  {
   "cell_type": "markdown",
   "metadata": {},
   "source": [
    "The secondary synonym function creates a list of synonyms from the first list of synonyms (in other words, expanding the semantic field). "
   ]
  },
  {
   "cell_type": "code",
   "execution_count": 4,
   "metadata": {},
   "outputs": [],
   "source": [
    "def secondarySynonyms(keyword): #function produces list of synonyms from primary synonym list\n",
    "\n",
    "    secondarySynonyms = set()\n",
    "\n",
    "    for syn in synonyms(keyword): \n",
    "        secondarySynonyms= secondarySynonyms|(synonyms(syn)) \n",
    "    \n",
    "    return(sorted(secondarySynonyms, key=str.casefold))"
   ]
  },
  {
   "cell_type": "markdown",
   "metadata": {},
   "source": [
    "## THEME Function with Integrated Synonym Function\n",
    "This function integrates the THEME function with the above synonym function, allowing users to input a single keyword and obtain concordances for associated synonyms. Function includes option for cycling through secondary synonym list (synonyms of synonyms) if desired. "
   ]
  },
  {
   "cell_type": "code",
   "execution_count": 13,
   "metadata": {},
   "outputs": [],
   "source": [
    "TreeTaggerDirectory = \"/Users/kaylinland/Documents/RAshipSinclair/Fortier/TreeTagger/\"#User enters directory\n",
    "\n",
    "def fileinput2(filename, kyw, secondsyn=False): #function allows user to input .txt file as filename and search list of word keywords\n",
    "    file = open(filename, \"r\")\n",
    "    filestring = file.read()\n",
    "    \n",
    "    regTokenizer = nltk.RegexpTokenizer(r'''\\w'|\\w+|[^\\w\\s]''')#French tokenizer accounts for liaisons\n",
    "    tokens1 = regTokenizer.tokenize(filestring.lower())#tokenize all words in .txt file and make lowercase\n",
    "    tokens2 = [word for word in tokens1 if word[0].isalpha()]#removes all non-alphabetical words like numbers\n",
    "    \n",
    "    tt = TreeTagger(TreeTaggerDirectory, language='french')#call TreeTagger\n",
    "    treetags = tt.tag(tokens2)\n",
    "    punctag = re.compile(\"PUN\")#create regex object to filter out POS tags that are not needed in THEME system\n",
    "    senttag = re.compile(\"SENT\")#regex object for sentence tagger\n",
    "    numtag = re.compile(\"NUM\")#regex object for number tag\n",
    "    symtag = re.compile(\"SYM\")#regex object for symbol\n",
    "    treetokens = [x for x in treetags if not (punctag.search(x[1]))\n",
    "        or senttag.search(x[1] or numtag.search(x[1]) or symtag.search(x[1]))]#remove unneeded POS tags\n",
    "    \n",
    "    if secondsyn==False: #creates optional parameter to run secondary synonym list\n",
    "        keywordList = synonyms(kyw)\n",
    "    else:\n",
    "        keywordList = secondarySynonyms(kyw)\n",
    "    \n",
    "    allconcordances = []\n",
    "    for kw in keywordList:\n",
    "        matchset = set()#create set \n",
    "        for i, (word, pos, lemma) in enumerate(treetokens): \n",
    "            #if lemma == [word for word in keywordList] and word != [word for word in keywordList]:\n",
    "            if lemma == kw and word != kw:\n",
    "                matchset.add(word)#create set if lemma from text matches input keyword \n",
    "    \n",
    "        print(\"\\nword matches for \", kw, \": \", matchset)#print results\n",
    "    \n",
    "        textObject = nltk.Text(tokens2)#create nltk object for list of tokens\n",
    "    \n",
    "        print(\"\\nRunning Primary concordance for \", kw)\n",
    "        concord = textObject.concordance_list(kw)\n",
    "        primaryConcordance = [x.line for x in concord]#creates Primary Concordance from text. Primary concordance is all concordances in instances where keyword appears as lemma\n",
    "        secondaryConcordance = [] #secondaryConcordance creates concordances that include all inflections of inputed keyword\n",
    "        primaryConcordanceIndex = []\n",
    "        #primaryConcordanceIndex.append(nltk.ConcordanceIndex(kw))#add location of keywords in text\n",
    "        primaryConcordanceIndex.append([x.offset for x in concord])\n",
    "        secondaryConcordanceIndex = []\n",
    "        for lemmamatch in matchset: \n",
    "            print(\"\\nRunning Secondary concordances for \", lemmamatch)\n",
    "            concord2 = textObject.concordance_list(lemmamatch)\n",
    "            secondaryConcordance.append([x.line for x in concord2])#Secondary concordance\n",
    "            secondaryConcordanceIndex.append([x.offset for x in concord2])#add location of synonyms in text\n",
    "            allconcordances.append([kw, primaryConcordance, primaryConcordanceIndex, secondaryConcordance, secondaryConcordanceIndex])\n",
    "    return(allconcordances)#return all concordances"
   ]
  },
  {
   "cell_type": "markdown",
   "metadata": {},
   "source": [
    "Below you will see a test of the THEME Function that includes the synonym function. The chosen text is Gide's l'Immoraliste and the chosen keyword is nuit. "
   ]
  },
  {
   "cell_type": "code",
   "execution_count": 14,
   "metadata": {},
   "outputs": [
    {
     "name": "stdout",
     "output_type": "stream",
     "text": [
      "\n",
      "word matches for  soirée :  {'soirées'}\n",
      "\n",
      "Running Primary concordance for  soirée\n",
      "\n",
      "Running Secondary concordances for  soirées\n",
      "\n",
      "word matches for  nuitée :  set()\n",
      "\n",
      "Running Primary concordance for  nuitée\n",
      "\n",
      "word matches for  Nox :  set()\n",
      "\n",
      "Running Primary concordance for  Nox\n",
      "\n",
      "word matches for  Buongiorno :  set()\n",
      "\n",
      "Running Primary concordance for  Buongiorno\n",
      "\n",
      "word matches for  nuit :  {'nuits'}\n",
      "\n",
      "Running Primary concordance for  nuit\n",
      "\n",
      "Running Secondary concordances for  nuits\n",
      "\n",
      "word matches for  soir :  {'soirs'}\n",
      "\n",
      "Running Primary concordance for  soir\n",
      "\n",
      "Running Secondary concordances for  soirs\n",
      "\n",
      "word matches for  sombre :  set()\n",
      "\n",
      "Running Primary concordance for  sombre\n",
      "\n",
      "word matches for  noirceur :  set()\n",
      "\n",
      "Running Primary concordance for  noirceur\n",
      "\n",
      "word matches for  obscurité :  set()\n",
      "\n",
      "Running Primary concordance for  obscurité\n"
     ]
    },
    {
     "data": {
      "text/plain": [
       "[['soirée',\n",
       "  ['s de mon mieux la fin du jour et la soirée à la préparation de mon cours mon t',\n",
       "   'ménalque quelques jours après cette soirée marceline commença d aller moins bi'],\n",
       "  [[19532, 25574]],\n",
       "  [[' car pour moi dès la seconde de ces soirées je ne trouvai plus rien à écouter r']],\n",
       "  [[24190]]],\n",
       " ['nuit',\n",
       "  ['n de nous trois gravement jusqu à la nuit nous n échangeâmes pas dix paroles u',\n",
       "   'rusque de la journée quand ce fut la nuit michel dit première partie i mes che',\n",
       "   'ensée m éveilla plusieurs fois cette nuit plusieurs fois je me dressai sur ma ',\n",
       "   'x qui me secouait encore plus quelle nuit arrivés à el djem pas d auberge un a',\n",
       "   'ait le village était endormi dans la nuit qui paraissait immense on entrevoyai',\n",
       "   'oi c est vrai tu es tout pâle non la nuit le vent reprit sa force enfin la dil',\n",
       "   'je lui dis j ai craché le sang cette nuit elle n eut pas un cri simplement ell',\n",
       "   'ts de l hôtel je ne pus dormir cette nuit tant le pressentiment de mes nouvell',\n",
       "   'épendait de moi seul enfin je vis la nuit pâlir le jour parut ç avait été ma v',\n",
       "   'de t j essayai donc de les ouvrir la nuit un peu d abord bientôt je les poussa',\n",
       "   'aient glacé ou trempé de sueur cette nuit fut très bonne et presque sans révei',\n",
       "   'l aube je me souviens de la dernière nuit la lune était à peu près pleine par ',\n",
       "   'hacals glapissent tout le long de la nuit devant moi la petite cour la muraill',\n",
       "   'ai pas encore je voulais fixer cette nuit en imposer le souvenir à ma pensée l',\n",
       "   ' positano puis sorrente ce fut cette nuit là que je possédai marceline avez vo',\n",
       "   'être est ce à sa nouveauté que notre nuit de noces dut sa grâce car il me semb',\n",
       "   'venir aujourd hui que cette première nuit fut la seule tant l attente et la su',\n",
       "   'la volupté de délices tant une seule nuit suffit au plus grand amour pour se d',\n",
       "   'onheur hélas je me souviens de cette nuit notre hôtel était hors la ville ento',\n",
       "   'on se prolongeait fort avant dans la nuit je pense que les attirait surtout l ',\n",
       "   'ce secrètement je pars dès l aube la nuit qui précède un départ est pour moi c',\n",
       "   ' départ est pour moi chaque fois une nuit d angoisses affreuses prouvez moi qu',\n",
       "   's voudrez bien passer cette dernière nuit près de moi mais nous nous reverrons',\n",
       "   'drid c est entendu je passerai cette nuit de veille avec vous et nous boirons ',\n",
       "   'désenchanta le passé et depuis notre nuit de sorrente déjà tout mon amour tout'],\n",
       "  [[1377,\n",
       "    1464,\n",
       "    3207,\n",
       "    3602,\n",
       "    3627,\n",
       "    3822,\n",
       "    4315,\n",
       "    6739,\n",
       "    6820,\n",
       "    7372,\n",
       "    8585,\n",
       "    10969,\n",
       "    11070,\n",
       "    11258,\n",
       "    14669,\n",
       "    14703,\n",
       "    14722,\n",
       "    14744,\n",
       "    14829,\n",
       "    24163,\n",
       "    25447,\n",
       "    25458,\n",
       "    25482,\n",
       "    25556,\n",
       "    25866]],\n",
       "  [['tirai je entrer vers moi le vent des nuits le clair de lune il me tarde enfin d',\n",
       "    'ourquoi je préférais sortir seul mes nuits à l ordinaire étaient encore coupées',\n",
       "    'mon cœur s arrêter ou revivre que de nuits la veillai je ainsi le regard obstin',\n",
       "    'ue instant et de ses jours et de ses nuits si léger que fût son sommeil j exerç']],\n",
       "  [[7413, 8567, 27517, 36094]]],\n",
       " ['soir',\n",
       "  ['on voyage nous sommes arrivés ici le soir exténués de chaleur ivres de nouveau',\n",
       "   'ue nous devions bientôt apprendre le soir même de nos noces nous couchions dan',\n",
       "   'la sottise des femmes près d elle ce soir là ce fut moi qui me parus gauche et',\n",
       "   'a diligence de sfax quitte sousse le soir à huit heures elle traverse el djem ',\n",
       "   ' diligence ne devait repasser que le soir ce fut vous dis je un jour lugubre l',\n",
       "   'noncer et promit de revenir avant le soir il revint me sourit me parla et me d',\n",
       "   'nté je me mis en état d hostilité le soir tombait j organisai ma stratégie pou',\n",
       "   ' ne guérissait pas avant le repas du soir pour la respiration l exercice la no',\n",
       "   'tendais la mettre à exécution dès ce soir je ne pus nous avions je ne sais que',\n",
       "   ' avais besoin de manger plus ce même soir nous arrêtâmes ceci les repas seraie',\n",
       "   'nt un châle il était trois heures du soir le vent souvent violent dans ce pays',\n",
       "   'e jardin je revins avec marceline le soir du même jour j y allai seul le chevr',\n",
       "   'ndait en un uniforme bien être où le soir s unissait au matin où les jours se ',\n",
       "   'aractère différent bocage un certain soir m annonça qu il attendait pour le le',\n",
       "   's propos nous échangeâmes ce premier soir occupé de le regarder je ne trouvais',\n",
       "   's et repartis sans ajouter un mot le soir dès que je revis charles je tâchai d',\n",
       "   ' profitai pour courir le matin et le soir sur leurs terres qui devaient donc m',\n",
       "   ' d où l on dominait le vallon que le soir emplissait de lumière elle avait une',\n",
       "   'aule et nous restions ainsi jusqu au soir sentant fondre en nous la journée sa',\n",
       "   'urs après le temps changea ce fut un soir tout à coup un grand souffle une hal',\n",
       "   'oi les premiers jours et du matin au soir notre temps se passa en courses et b',\n",
       "   'condamner sa porte je la trouvais le soir exténuée et si je ne m inquiétai pas',\n",
       "   'ine marthe jeanne sophie et quand le soir maintenant je repasse toutes ces occ',\n",
       "   'ser avec vous dînez donc avec moi ce soir cher ménalque lui répondis je vous s',\n",
       "   'llons adieu voilà qui suffit pour ce soir et nous ne dirions rien de mieux mai'],\n",
       "  [[1226,\n",
       "    2549,\n",
       "    3171,\n",
       "    3480,\n",
       "    3702,\n",
       "    4486,\n",
       "    6397,\n",
       "    6442,\n",
       "    6568,\n",
       "    6698,\n",
       "    7494,\n",
       "    9635,\n",
       "    16533,\n",
       "    16962,\n",
       "    17239,\n",
       "    18832,\n",
       "    20080,\n",
       "    20369,\n",
       "    20390,\n",
       "    20606,\n",
       "    21028,\n",
       "    21113,\n",
       "    21906,\n",
       "    22578,\n",
       "    23861]],\n",
       "  [['ontré dans les bois presque tous les soirs il braconne bute avait dit ces derni',\n",
       "    ' revers du talus j attendis et trois soirs j attendis en vain je commençai à cr']],\n",
       "  [[30939, 31116]]]]"
      ]
     },
     "execution_count": 14,
     "metadata": {},
     "output_type": "execute_result"
    }
   ],
   "source": [
    "lImmoraliste = \"/Users/kaylinland/Documents/RAshipSinclair/Fortier/SampleDocs/L'Immoraliste.text\"\n",
    "fileinput2(lImmoraliste, 'nuit')"
   ]
  },
  {
   "cell_type": "markdown",
   "metadata": {},
   "source": [
    "## Visualization\n",
    "Import the parameters to enable visualization. User must have plot nine downloaded to computer. "
   ]
  },
  {
   "cell_type": "code",
   "execution_count": 19,
   "metadata": {},
   "outputs": [],
   "source": [
    "import pandas as pd\n",
    "import numpy as np\n",
    "from pandas.api.types import CategoricalDtype\n",
    "from plotnine import *\n",
    "from plotnine.data import mpg\n",
    "%matplotlib inline"
   ]
  },
  {
   "cell_type": "code",
   "execution_count": 20,
   "metadata": {},
   "outputs": [],
   "source": [
    "def FreqHisto(themeoutput, plottitle = \"\", binsize = 500):#second variable allows user to enter plot title and bin size, otherwise user is prompted\n",
    "\n",
    "    allindices = [] #create empty list for location of all keywords in text by index number\n",
    "    for x in themeoutput: \n",
    "        if len(x[2][0])>=1:#includes index position of all keywords with frequency of at least one\n",
    "            for y in x[2][0]: \n",
    "                allindices.append(y)#add these words to list for position 2\n",
    "        if len(x[4])>=1: \n",
    "            for y in x[4][0]: \n",
    "                allindices.append(y)\n",
    "    testPandas = pd.DataFrame({\"location_index\": allindices})\n",
    "    \n",
    "    if plottitle == \"\":\n",
    "        titletext = input(\"Enter desired title: \")\n",
    "    else: titletext = str(plottitle)\n",
    "\n",
    "    visualization = (ggplot(testPandas)\n",
    "    + aes(x=\"location_index\")\n",
    "    + geom_histogram(binwidth=int(binsize))#change bin width here\n",
    "    + labs(title= titletext, x='location index #', y='frequency of synonyms')\n",
    "    )\n",
    "    \n",
    "    return(visualization)"
   ]
  },
  {
   "cell_type": "markdown",
   "metadata": {},
   "source": [
    "Below you can see the visualization function performed for the text \"Isabelle\" by Gide for the word nuit. Users must first run the base THEME function using either fileinput1 or fileinput2. The output for this function should be saved as themeoutput (as shown below). "
   ]
  },
  {
   "cell_type": "code",
   "execution_count": 30,
   "metadata": {},
   "outputs": [
    {
     "name": "stdout",
     "output_type": "stream",
     "text": [
      "\n",
      "word matches for  soirée :  set()\n",
      "\n",
      "Running Primary concordance for  soirée\n",
      "\n",
      "word matches for  nuitée :  set()\n",
      "\n",
      "Running Primary concordance for  nuitée\n",
      "\n",
      "word matches for  Nox :  set()\n",
      "\n",
      "Running Primary concordance for  Nox\n",
      "\n",
      "word matches for  Buongiorno :  set()\n",
      "\n",
      "Running Primary concordance for  Buongiorno\n",
      "\n",
      "word matches for  nuit :  {'nuits'}\n",
      "\n",
      "Running Primary concordance for  nuit\n",
      "\n",
      "Running Secondary concordances for  nuits\n",
      "\n",
      "word matches for  soir :  {'soirs'}\n",
      "\n",
      "Running Primary concordance for  soir\n",
      "\n",
      "Running Secondary concordances for  soirs\n",
      "\n",
      "word matches for  sombre :  {'sombres'}\n",
      "\n",
      "Running Primary concordance for  sombre\n",
      "\n",
      "Running Secondary concordances for  sombres\n",
      "\n",
      "word matches for  noirceur :  set()\n",
      "\n",
      "Running Primary concordance for  noirceur\n",
      "\n",
      "word matches for  obscurité :  set()\n",
      "\n",
      "Running Primary concordance for  obscurité\n"
     ]
    }
   ],
   "source": [
    "testPandas = pd.DataFrame({\"location_index\": allindices})\n",
    "textfile = \"/Users/kaylinland/Documents/RAshipSinclair/Fortier/SampleDocs/Isabelle_Gide.txt\"#define file path\n",
    "themeoutput = fileinput2(textfile, \"nuit\")"
   ]
  },
  {
   "cell_type": "code",
   "execution_count": 32,
   "metadata": {},
   "outputs": [
    {
     "name": "stdout",
     "output_type": "stream",
     "text": [
      "Enter desired title: Occurrences of 'Nuit' Synonyms in Gide's \"Isabelle\"\n"
     ]
    },
    {
     "data": {
      "image/png": "[encoded data removed]",
      "text/plain": [
       "<Figure size 640x480 with 1 Axes>"
      ]
     },
     "metadata": {},
     "output_type": "display_data"
    },
    {
     "data": {
      "text/plain": [
       "<ggplot: (-9223372036521552689)>"
      ]
     },
     "execution_count": 32,
     "metadata": {},
     "output_type": "execute_result"
    }
   ],
   "source": [
    "FreqHisto(themeoutput) "
   ]
  }
 ],
 "metadata": {
  "kernelspec": {
   "display_name": "Python 3",
   "language": "python",
   "name": "python3"
  },
  "language_info": {
   "codemirror_mode": {
    "name": "ipython",
    "version": 3
   },
   "file_extension": ".py",
   "mimetype": "text/x-python",
   "name": "python",
   "nbconvert_exporter": "python",
   "pygments_lexer": "ipython3",
   "version": "3.7.0"
  }
 },
 "nbformat": 4,
 "nbformat_minor": 2
}
