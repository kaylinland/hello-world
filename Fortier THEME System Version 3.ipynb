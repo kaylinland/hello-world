{
 "cells": [
  {
   "cell_type": "markdown",
   "metadata": {},
   "source": [
    "Import all necessary documentation. Choose text for use in THEME system. Text must be in .txt format, UTF-8 encoding. Ensure .txt file is located in locatable directory and that notebook is also in this directory. The user must also download TreeTagger and all associated French parameter files. See here for directions: https://www.cis.uni-muenchen.de/~schmid/tools/TreeTagger/. TreeTagger was chosen for part of speech tagging because it reliably tags French POS and also provides a lemma for each tagged word. "
   ]
  },
  {
   "cell_type": "code",
   "execution_count": 1,
   "metadata": {},
   "outputs": [
    {
     "name": "stdout",
     "output_type": "stream",
     "text": [
      "mkdir: cmd: File exists\n",
      "mkdir: lib: File exists\n",
      "mkdir: bin: File exists\n",
      "mkdir: doc: File exists\n",
      "\n",
      "TreeTagger version for Mac OS-X installed.\n",
      "Tagging scripts installed.\n",
      "French parameter file installed.\n",
      "Path variables modified in tagging scripts.\n",
      "\n",
      "You might want to add /Users/kaylinland/Documents/RAshipSinclair/Fortier/TreeTagger/cmd and /Users/kaylinland/Documents/RAshipSinclair/Fortier/TreeTagger/bin to the PATH variable so that you do not need to specify the full path to run the tagging scripts.\n",
      "\n"
     ]
    }
   ],
   "source": [
    "import os, re #to determine directories and use regex\n",
    "os.getcwd()\n",
    "os.chdir(\"/Users/kaylinland/Documents/RAshipSinclair/Fortier/TreeTagger\")#navigate to user directory with TreeTagger files\n",
    "import nltk\n",
    "import sys\n",
    "!sh install-tagger.sh #install TreeTagger\n",
    "from treetagger import TreeTagger #call TreeTagger\n",
    "from frenetic import * #Import API for using WOLF French wordnet in Python\n",
    "\n"
   ]
  },
  {
   "cell_type": "code",
   "execution_count": 2,
   "metadata": {},
   "outputs": [],
   "source": [
    "TreeTaggerDirectory = \"/Users/kaylinland/Documents/RAshipSinclair/Fortier/TreeTagger/\"#User enters directory\n",
    "\n",
    "def fileinput(filename, keywordList): #function allows user to input .txt file as filename and search list of word keywords\n",
    "    file = open(filename, \"r\")\n",
    "    filestring = file.read()\n",
    "    \n",
    "    regTokenizer = nltk.RegexpTokenizer(r'''\\w'|\\w+|[^\\w\\s]''')#French tokenizer accounts for liaisons\n",
    "    tokens1 = regTokenizer.tokenize(filestring.lower())#tokenize all words in .txt file and make lowercase\n",
    "    tokens2 = [word for word in tokens1 if word[0].isalpha()]#removes all non-alphabetical words like numbers\n",
    "    \n",
    "    tt = TreeTagger(TreeTaggerDirectory, language='french')#call TreeTagger\n",
    "    treetags = tt.tag(tokens2)\n",
    "    punctag = re.compile(\"PUN\")#create regex object to filter out POS tags that are not needed in THEME system\n",
    "    senttag = re.compile(\"SENT\")#regex object for sentence tagger\n",
    "    numtag = re.compile(\"NUM\")#regex object for number tag\n",
    "    symtag = re.compile(\"SYM\")#regex object for symbol\n",
    "    treetokens = [x for x in treetags if not (punctag.search(x[1]))\n",
    "        or senttag.search(x[1] or numtag.search(x[1]) or symtag.search(x[1]))]#remove unneeded POS tags\n",
    "    \n",
    "    allconcordances = []\n",
    "    for kw in keywordList:\n",
    "        matchset = set()#create set \n",
    "        for i, (word, pos, lemma) in enumerate(treetokens): \n",
    "            #if lemma == [word for word in keywordList] and word != [word for word in keywordList]:\n",
    "            if lemma == kw and word != kw:\n",
    "                matchset.add(word)#create set if lemma from text matches input keyword \n",
    "    \n",
    "        print(\"\\nword matches for \", kw, \": \", matchset)#print results\n",
    "    \n",
    "        textObject = nltk.Text(tokens2)#create nltk object for list of tokens\n",
    "    \n",
    "        print(\"\\nRunning Primary concordance for \", kw)\n",
    "        primaryConcordance = textObject.concordance(kw, lines=10)#creates Primary Concordance from text. Primary concordance is all concordances in instances where keyword appears as lemma\n",
    "        secondaryConcordance = [] #secondaryConcordance creates concordances that include all inflections of inputed keyword\n",
    "        for lemmamatch in matchset: \n",
    "            print(\"\\nRunning Secondary concordances for \", lemmamatch)\n",
    "            secondaryConcordance.append(textObject.concordance(lemmamatch, lines=10))#Secondary concordance\n",
    "            textConcordancePositions = nltk.ConcordanceIndex(kw)#add location of keywords in text\n",
    "        allconcordances.append([kw, primaryConcordance, secondaryConcordance, textConcordancePositions])\n",
    "    return(allconcordances)#return all concordances"
   ]
  },
  {
   "cell_type": "markdown",
   "metadata": {},
   "source": [
    "This function utilizes the Python API for WOLF. Code can be found here: https://github.com/hardik-vala/FreNetic. "
   ]
  },
  {
   "cell_type": "code",
   "execution_count": 3,
   "metadata": {},
   "outputs": [],
   "source": [
    "FreNeticDirectory = \"/Users/kaylinland/Documents/RAshipSinclair/Fortier/wolf-1.0b4.xml\" #Enter location with WOLF .xml file\n",
    "\n",
    "def synonyms(keyword): #create list of synonyms using French wordnet from chosen theme keyword\n",
    "       \n",
    "    fwn = FreNetic(FreNeticDirectory)\n",
    "    synset = fwn.synsets(keyword)#create synset object\n",
    "    #synonymlist = []\n",
    "    synonymlist = set()\n",
    "    for synx in synset: #get list of all literals for chosen synset\n",
    "        for sy in synx.literals():\n",
    "            #synonymlist += (str(sy).split(' ')[0])\n",
    "            #synonymlist = synonymlist + (str(sy).split(' ')[0])\n",
    "            #synonymlist.append(str(sy).split(' ')[0])\n",
    "            synonymlist.add(str(sy).split(' ')[0])\n",
    "        \n",
    "    \n",
    "    return(synonymlist)"
   ]
  },
  {
   "cell_type": "code",
   "execution_count": 4,
   "metadata": {},
   "outputs": [
    {
     "data": {
      "text/plain": [
       "{'Buongiorno',\n",
       " 'Nox',\n",
       " 'noirceur',\n",
       " 'nuit',\n",
       " 'nuitée',\n",
       " 'obscurité',\n",
       " 'soir',\n",
       " 'soirée',\n",
       " 'sombre'}"
      ]
     },
     "execution_count": 4,
     "metadata": {},
     "output_type": "execute_result"
    }
   ],
   "source": [
    "synonyms(\"nuit\")#test using Gide. "
   ]
  },
  {
   "cell_type": "code",
   "execution_count": 5,
   "metadata": {},
   "outputs": [],
   "source": [
    "TreeTaggerDirectory = \"/Users/kaylinland/Documents/RAshipSinclair/Fortier/TreeTagger/\"#User enters directory\n",
    "\n",
    "def fileinput2(filename, kyw): #function allows user to input .txt file as filename and search list of word keywords\n",
    "    file = open(filename, \"r\")\n",
    "    filestring = file.read()\n",
    "    \n",
    "    regTokenizer = nltk.RegexpTokenizer(r'''\\w'|\\w+|[^\\w\\s]''')#French tokenizer accounts for liaisons\n",
    "    tokens1 = regTokenizer.tokenize(filestring.lower())#tokenize all words in .txt file and make lowercase\n",
    "    tokens2 = [word for word in tokens1 if word[0].isalpha()]#removes all non-alphabetical words like numbers\n",
    "    \n",
    "    tt = TreeTagger(TreeTaggerDirectory, language='french')#call TreeTagger\n",
    "    treetags = tt.tag(tokens2)\n",
    "    punctag = re.compile(\"PUN\")#create regex object to filter out POS tags that are not needed in THEME system\n",
    "    senttag = re.compile(\"SENT\")#regex object for sentence tagger\n",
    "    numtag = re.compile(\"NUM\")#regex object for number tag\n",
    "    symtag = re.compile(\"SYM\")#regex object for symbol\n",
    "    treetokens = [x for x in treetags if not (punctag.search(x[1]))\n",
    "        or senttag.search(x[1] or numtag.search(x[1]) or symtag.search(x[1]))]#remove unneeded POS tags\n",
    "    \n",
    "    keywordList = synonyms(kyw)\n",
    "    \n",
    "    allconcordances = []\n",
    "    for kw in keywordList:\n",
    "        matchset = set()#create set \n",
    "        for i, (word, pos, lemma) in enumerate(treetokens): \n",
    "            #if lemma == [word for word in keywordList] and word != [word for word in keywordList]:\n",
    "            if lemma == kw and word != kw:\n",
    "                matchset.add(word)#create set if lemma from text matches input keyword \n",
    "    \n",
    "        print(\"\\nword matches for \", kw, \": \", matchset)#print results\n",
    "    \n",
    "        textObject = nltk.Text(tokens2)#create nltk object for list of tokens\n",
    "    \n",
    "        print(\"\\nRunning Primary concordance for \", kw)\n",
    "        primaryConcordance = textObject.concordance(kw, lines=10)#creates Primary Concordance from text. Primary concordance is all concordances in instances where keyword appears as lemma\n",
    "        secondaryConcordance = [] #secondaryConcordance creates concordances that include all inflections of inputed keyword\n",
    "        for lemmamatch in matchset: \n",
    "            print(\"\\nRunning Secondary concordances for \", lemmamatch)\n",
    "            secondaryConcordance.append(textObject.concordance(lemmamatch, lines=10))#Secondary concordance\n",
    "            textConcordancePositions = nltk.ConcordanceIndex(kw)#add location of keywords in text\n",
    "        allconcordances.append([kw, primaryConcordance, secondaryConcordance, textConcordancePositions])\n",
    "    return(allconcordances)#return all concordances"
   ]
  },
  {
   "cell_type": "code",
   "execution_count": 6,
   "metadata": {},
   "outputs": [],
   "source": [
    "isabelleGide = \"/Users/kaylinland/Documents/RAshipSinclair/Fortier/SampleDocs/Isabelle_Gide.txt\" #define sample file\n",
    "keywordList = ['aimer', 'faire']#sample list of keywords"
   ]
  },
  {
   "cell_type": "code",
   "execution_count": 7,
   "metadata": {
    "scrolled": true
   },
   "outputs": [
    {
     "name": "stdout",
     "output_type": "stream",
     "text": [
      "\n",
      "word matches for  aimer :  {'aimait', 'aimaient', 'aimerais', 'aimez', 'aime', 'aimais'}\n",
      "\n",
      "Running Primary concordance for  aimer\n",
      "Displaying 2 of 2 matches:\n",
      "ent occupe par l' attente pouvais je aimer vraiment isabelle non sans doute mai\n",
      "nsais je est ce la comme elle savait aimer a present je ramassais les menus obj\n",
      "\n",
      "Running Secondary concordances for  aimait\n",
      "Displaying 1 of 1 matches:\n",
      "' abord mon oncle est mort qui vous aimait bien et puis dimanche apres ma tant\n",
      "\n",
      "Running Secondary concordances for  aimaient\n",
      "Displaying 1 of 1 matches:\n",
      " ni la cuisiniere ni gratien ne m' aimaient mes avances reiterees n' avaient p\n",
      "\n",
      "Running Secondary concordances for  aimerais\n",
      "Displaying 1 of 1 matches:\n",
      "ais enfin cher monsieur l' abbe j' aimerais bien savoir si ce n' est pas cette\n",
      "\n",
      "Running Secondary concordances for  aimez\n",
      "Displaying 2 of 2 matches:\n",
      "ens les poetes les orateurs que vous aimez ni sur la forme de gouvernement que \n",
      " autres habits et qu est ce que vous aimez lire les grands voyages puis tournan\n",
      "\n",
      "Running Secondary concordances for  aime\n",
      "Displaying 7 of 7 matches:\n",
      "sance cher monsieur lacase j' aurais aime que vous causiez avec casimir pour v\n",
      "gne parait un peu severe a quiconque aime beaucoup causer puis on s' y fait ce\n",
      "allait qu elle s' en aile elle ne t' aime donc pas oh si elle m' aime beaucoup\n",
      "le ne t' aime donc pas oh si elle m' aime beaucoup cria t il brusquement ecart\n",
      " delphine la femme de gratien qui m' aime bien et ca ete tres triste parce que\n",
      "core bien vieux mais j' aurais mieux aime mourir avant d' avoir vu tout cela q\n",
      "vaille j' etais eleve de thalberg j' aime aussi beaucoup la poesie et comme je\n",
      "\n",
      "Running Secondary concordances for  aimais\n",
      "Displaying 2 of 2 matches:\n",
      "rais l' amour je me figurais que j' aimais et tout heureux d' etre amoureux m'\n",
      "e pas vous revoir parce que je vous aimais bien mais je ne vous oublie pas vot\n",
      "\n",
      "word matches for  faire :  {'font', 'ferai', 'fis', 'feront', 'faisait', 'fera', 'feras', 'faisaient', 'ferait', 'firent', 'fit', 'faite', 'feriez', 'fais', 'ferais', 'fait', 'faites', 'faisant'}\n",
      "\n",
      "Running Primary concordance for  faire\n",
      "Displaying 10 of 35 matches:\n",
      "nsez si l' on n' a pas autre chose a faire le desordre etait repare d' un geste\n",
      "nt a nous brusquement vous alliez me faire oublier de demander a monsieur lacas\n",
      "ieur lacase m' a tout l' air de vous faire la cour elle haussa les epaules puis\n",
      "e il feint d' entendre plutot que de faire hausser la voix pour moi quant aux i\n",
      "ce les quelques papiers qui devaient faire l' objet de mon premier travail sans\n",
      "ait elle sans doute tenait elle a me faire sentir et a faire sentir a sa soeur \n",
      "e tenait elle a me faire sentir et a faire sentir a sa soeur que je n' etais pa\n",
      "si j' allais me mettre en tete de le faire danser sur la corde roide j' ai vite\n",
      " un peu d' aigreur s' il avait du me faire perdre le meme temps et sans profit \n",
      "ure mais comment allons nous pouvoir faire la jument qui vient de partir avec l\n",
      "\n",
      "Running Secondary concordances for  font\n",
      "Displaying 1 of 1 matches:\n",
      "niquement pour lui rendre visite ils font des reparations au chateau cela sera\n",
      "\n",
      "Running Secondary concordances for  ferai\n",
      "Displaying 1 of 1 matches:\n",
      " est tres belle pour de l' argent je ferai mon possible mais tu feras tout de m\n",
      "\n",
      "Running Secondary concordances for  fis\n",
      "Displaying 8 of 8 matches:\n",
      "remiere fois au jardin des plantes je fis connaissance avec le antiquorum_ ou f\n",
      "e ne soit un peu special quelle these fis je legerement inquiet la these pour s\n",
      "l fantaisiste texte de depeche que je fis expedier a une adresse imaginaire j' \n",
      " quelque cousin du meme nom fort bien fis je comprenant a demi hesitant pourtan\n",
      "ha prise je me levai tout aussitot et fis mine de sortir si vous n' aviez pas e\n",
      "er coucher pauvre femme cette nuit je fis un reve absurde un reve qui n' etait \n",
      "r elle ne m' ecoutait toujours pas je fis un mouvement pour me ressaisir de la \n",
      "e de villegiature sur ma ferme que je fis connaissance avec les b dont j' epous\n",
      "\n",
      "Running Secondary concordances for  feront\n",
      "Displaying 1 of 1 matches:\n",
      "ilier du chateau et la bibliotheque feront l' effet d' une vente prochaine ou \n",
      "\n",
      "Running Secondary concordances for  faisait\n",
      "Displaying 10 of 20 matches:\n",
      "lancher par endroits flechissait et faisait mine de se rompre etouffant nos pas\n",
      "e nous penetrames dans le jardin il faisait trop sombre pour que je pusse rien \n",
      "ndant qu elle pincait les levres et faisait visage de bois mais a present que v\n",
      "es sautait de conserve avec lui lui faisait fete l' enfant se defendait tant bi\n",
      "a tete obliquement et d' un sourire faisait sien chaque propos de sa femme je v\n",
      "au moindre mouvement de la machoire faisait un extraordinaire effort pour rejoi\n",
      "es un mien oncle principalement qui faisait avec lui son piquet ah c' etait un \n",
      "t un travail de l' abbe que l' abbe faisait remettre au net et copier par l' en\n",
      " un regard ou deja l' interrogation faisait place a la confiance l' abbe lui a \n",
      "mi dans la bergere le baron qui lui faisait face se plaignait de ses rhumatisme\n",
      "\n",
      "Running Secondary concordances for  fera\n",
      "Displaying 1 of 1 matches:\n",
      " sortir avec votre petit neveu il me fera visiter quelque endroit du parc il s\n",
      "\n",
      "Running Secondary concordances for  feras\n",
      "Displaying 2 of 2 matches:\n",
      "argent je ferai mon possible mais tu feras tout de meme bien de t' en procurer \n",
      "que je suis vieille qu est ce que je feras de cela loly loly vous etes ce que j\n",
      "\n",
      "Running Secondary concordances for  faisaient\n",
      "Displaying 1 of 1 matches:\n",
      "t au coeur or les recits de jammes faisaient les delices de nos veillees je vou\n",
      "\n",
      "Running Secondary concordances for  ferait\n",
      "Displaying 1 of 1 matches:\n",
      "e dont il ne bougeait plus ou il se ferait un plaisir de me recevoir et de met\n",
      "\n",
      "Running Secondary concordances for  firent\n",
      "Displaying 3 of 3 matches:\n",
      "s dont mon imagination s' empara me firent esperer de trouver la bas une socie\n",
      "pose les premiers soirs mes impairs firent la ruine de notre camp et mirent en\n",
      " larmes que je repandais en parlant firent peut etre plus pour la convaincre q\n",
      "\n",
      "Running Secondary concordances for  fit\n",
      "Displaying 10 of 27 matches:\n",
      "i proche de nous si brutal qu il nous fit peniblement tressaillir puis lorsqu i\n",
      "ses levres tremblaient allons nous en fit il j' ai besoin de respirer un autre \n",
      "n peu dure pour le cheval et lui meme fit la montee en tenant par la bride la h\n",
      "rabattait vers moi la lumiere elle me fit un salut un peux sec je m' inclinai d\n",
      "s avoue que je n' ai pas dine elle me fit entrer dans une vaste salle a manger \n",
      "t devant mademoiselle verdure qui lui fit une reverence ecourtee oh je resigne \n",
      " cour elle haussa les epaules puis me fit un rapide salut tandis que l' abbe m'\n",
      "ement qu elles m' occupent n' importe fit il ecartant de la main toute pensee d\n",
      "nder vous avez suivi de ses cours non fit il rudement ce que je sais de lui m' \n",
      "nca d' ebranler le plafond puis il se fit un grand silence et tandis que je plo\n",
      "\n",
      "Running Secondary concordances for  faite\n",
      "Displaying 2 of 2 matches:\n",
      "t veiller bien tard oh moi j' y suis faite dit elle sans se retourner elle m' a\n",
      " foule des que l' obscurite s' etait faite je voyais oui dans l' obscurite je v\n",
      "\n",
      "Running Secondary concordances for  feriez\n",
      "Displaying 2 of 2 matches:\n",
      " desservir et votre chambre comment feriez vous pour la trouver tout seul je d\n",
      "n' ose pas vous demander si vous ne feriez pas encore un petit tour de jardin \n",
      "\n",
      "Running Secondary concordances for  fais\n",
      "Displaying 4 of 4 matches:\n",
      "ur moi quant aux idees du jour je me fais l' effet d' etre tout aussi sourd qu\n",
      "u reste je ne m' en plains pas je ne fais meme pas grand effort pour entendre \n",
      "moment qu elle me disait pour eux je fais l' absente mais pour toi je suis la \n",
      "' heure je ne sortirais pas comme je fais ah on peut dire que c' est du beau m\n",
      "\n",
      "Running Secondary concordances for  ferais\n",
      "Displaying 3 of 3 matches:\n",
      "lus la lanterne qu est ce que j' en ferais la voiture est tout pres adieu allo\n",
      " oublie que vous la defendiez je le ferais peut etre encore monsieur le cure a\n",
      "s le ruban vert le lui tendis qu en ferais je a present dit elle sans le prend\n",
      "\n",
      "Running Secondary concordances for  fait\n",
      "Displaying 10 of 39 matches:\n",
      "oup de moi dit gerard chacun de nous fait il jamais rien d' autre repartit jam\n",
      "nombreux que ne me l' avait d' abord fait esperer mon maitre il ne fut bientot\n",
      "s directement mais pour sur qu on ne fait pas le trajet tous les jours puis au\n",
      "vous meme mademoiselle je vous aurai fait veiller bien tard oh moi j' y suis f\n",
      "d brasier dieu me pardonne on vous a fait du feu vous vous en seriez peut etre\n",
      "ent que je ne dissimulai point il se fait assez tard demain si vous le permett\n",
      "vais trouvee en me couchant m' avait fait tout le bien du monde mademoiselle v\n",
      "d il vous a culbute il ne vous a pas fait mal il faut dire a monsieur lacase e\n",
      " apercevoir du coin de l' oeil et de fait les jours suivants je ne levais poin\n",
      "s a decomposer mon impression gerard fait erreur le antiquorum_ n' a pas le be\n",
      "\n",
      "Running Secondary concordances for  faites\n",
      "Displaying 7 of 7 matches:\n",
      "deux cotes du jacquet l' abbe ne le faites pas veiller trop tard recommandait \n",
      "tant je m' en vais les querir n' en faites rien monsieur l' abbe c' est moi qu\n",
      "me d' un accident de chasse vous me faites fremir mon imagination aussitot con\n",
      "ner avant de conclure mon jeune ami faites attention que l' esprit d' examen e\n",
      "voulez vous dire quel ergoteur vous faites c' est avec un pareil esprit que ma\n",
      " ne l' eut pas condamnee comme vous faites d' abord ca vous n' en savez rien p\n",
      "tre air mais vous etes averti allez faites a votre guise demain matin vous m' \n",
      "\n",
      "Running Secondary concordances for  faisant\n",
      "Displaying 4 of 4 matches:\n",
      "rs sortant des papiers les rentrant faisant mine d' homme affaire je soupconnai\n",
      "ble la conversation de ces dames se faisant de plus en plus insignifiante j' oc\n",
      "ous montrer quelque chose dit il en faisant jouer un ressort et glisser un tiro\n",
      "it dans une autre partie du chateau faisant pendant a celle que j' occupais et \n"
     ]
    }
   ],
   "source": [
    "p1test = fileinput(isabelleGide, keywordList)#test the function"
   ]
  },
  {
   "cell_type": "code",
   "execution_count": 8,
   "metadata": {},
   "outputs": [
    {
     "name": "stdout",
     "output_type": "stream",
     "text": [
      "\n",
      "word matches for  sombre :  {'sombres'}\n",
      "\n",
      "Running Primary concordance for  sombre\n",
      "Displaying 3 of 3 matches:\n",
      "us encombrant le ciel decouvert une sombre masse d' arbres c' etait une avenue\n",
      "ames dans le jardin il faisait trop sombre pour que je pusse rien distinguer d\n",
      "artit la piece a present paraissait sombre isabelle cependant s' etait relevee\n",
      "\n",
      "Running Secondary concordances for  sombres\n",
      "Displaying 1 of 1 matches:\n",
      "int aureol seule parmi les costumes sombres elle etait vetue tout en blanc d' a\n",
      "\n",
      "word matches for  Nox :  set()\n",
      "\n",
      "Running Primary concordance for  Nox\n",
      "no matches\n",
      "\n",
      "word matches for  obscurité :  set()\n",
      "\n",
      "Running Primary concordance for  obscurité\n",
      "no matches\n",
      "\n",
      "word matches for  soir :  {'soirs'}\n",
      "\n",
      "Running Primary concordance for  soir\n",
      "Displaying 10 of 15 matches:\n",
      " dans les grandes occasions comme ce soir on emprunte le cheval du fermier mon\n",
      "te bien aimable et je le recrirai ce soir a mon excellent ami desnos mais vous\n",
      "aureol l' abbe du moins la veille au soir aurait bien pu m' avertir je me souv\n",
      " la tete dans l' ombre et le premier soir un sursaut de flamme ayant eclaire b\n",
      "i j' avais cru decent des le premier soir d' obeir au signal de ces dames lais\n",
      "er emmenant coucher casimir quand ce soir la je me retrouvai seul dans ma cham\n",
      "res papiers que j' ai ressortis hier soir je comptais sur eux je l' avoue pour\n",
      "avez encore un peu de temps jusqu au soir car je n' ose n' est ce pas vous dem\n",
      "lques mots encore car je sais que ce soir je ne pourrai plus rien te dire mes \n",
      "a l' eperonner au contraire jusqu au soir mon esprit dont je renonce a peine l\n",
      "\n",
      "Running Secondary concordances for  soirs\n",
      "Displaying 1 of 1 matches:\n",
      "que je m' etais propose les premiers soirs mes impairs firent la ruine de notre\n",
      "\n",
      "word matches for  soirée :  set()\n",
      "\n",
      "Running Primary concordance for  soirée\n",
      "no matches\n",
      "\n",
      "word matches for  nuitée :  set()\n",
      "\n",
      "Running Primary concordance for  nuitée\n",
      "no matches\n",
      "\n",
      "word matches for  Buongiorno :  set()\n",
      "\n",
      "Running Primary concordance for  Buongiorno\n",
      "no matches\n",
      "\n",
      "word matches for  nuit :  {'nuits'}\n",
      "\n",
      "Running Primary concordance for  nuit\n",
      "Displaying 10 of 23 matches:\n",
      "y entre pont l' eveque et lisieux la nuit etait a peu pres close j' etais seul\n",
      "il en avisant ma malle et mon sac de nuit gratien vous a monte vos colis grati\n",
      "e que j' eteignis pour contempler la nuit ma chambre ouvrait sur le parc mais \n",
      "eva l' ancre pour la traversee de la nuit ii je fus reveille d' assez bon mati\n",
      " mademoiselle verdure en toilette de nuit vaquant a de derniers rangements plu\n",
      "e heure que ce soit un jour ou de la nuit qu il m' emporte j' etouffe ici l' i\n",
      "re heure au besoin de train de cette nuit suffirait que gratien aille tout de \n",
      "suis couche couche oui elle vient la nuit puis cedant a sa confiance il avait \n",
      "reol la mere de votre eleve certaine nuit du octobre que devait venir l' enlev\n",
      "t mademoiselle de saint aureol cette nuit la sans doute elle n' apprit que le \n",
      "\n",
      "Running Secondary concordances for  nuits\n",
      "Displaying 2 of 2 matches:\n",
      " etre bien passe il est vrai que les nuits de ce pays sont humides et la saison\n",
      "arte non point egale comme celle des nuits tranquilles mais palpitante et defai\n",
      "\n",
      "word matches for  noirceur :  set()\n",
      "\n",
      "Running Primary concordance for  noirceur\n",
      "no matches\n"
     ]
    }
   ],
   "source": [
    "p2test = fileinput2(isabelleGide, \"nuit\")"
   ]
  },
  {
   "cell_type": "code",
   "execution_count": 9,
   "metadata": {},
   "outputs": [
    {
     "data": {
      "text/plain": [
       "[['sombre', None, [None], <ConcordanceIndex for 6 tokens (6 types)>],\n",
       " ['Nox', None, [], <ConcordanceIndex for 6 tokens (6 types)>],\n",
       " ['obscurité', None, [], <ConcordanceIndex for 6 tokens (6 types)>],\n",
       " ['soir', None, [None], <ConcordanceIndex for 4 tokens (4 types)>],\n",
       " ['soirée', None, [], <ConcordanceIndex for 4 tokens (4 types)>],\n",
       " ['nuitée', None, [], <ConcordanceIndex for 4 tokens (4 types)>],\n",
       " ['Buongiorno', None, [], <ConcordanceIndex for 4 tokens (4 types)>],\n",
       " ['nuit', None, [None], <ConcordanceIndex for 4 tokens (4 types)>],\n",
       " ['noirceur', None, [], <ConcordanceIndex for 4 tokens (4 types)>]]"
      ]
     },
     "execution_count": 9,
     "metadata": {},
     "output_type": "execute_result"
    }
   ],
   "source": [
    "p2test[:]"
   ]
  },
  {
   "cell_type": "code",
   "execution_count": 13,
   "metadata": {},
   "outputs": [],
   "source": [
    "#rousseauText = \"/Users/kaylinland/Documents/RAshipSinclair/Fortier/SampleDocs/rousseau.txt\"#test second file\n",
    "#fileinput2(rousseauText, \"bonheur\")"
   ]
  },
  {
   "cell_type": "code",
   "execution_count": 26,
   "metadata": {},
   "outputs": [
    {
     "name": "stdout",
     "output_type": "stream",
     "text": [
      "\n",
      "word matches for  félicité :  set()\n",
      "\n",
      "Running Primary concordance for  félicité\n",
      "no matches\n",
      "\n",
      "word matches for  joie :  {'joies'}\n",
      "\n",
      "Running Primary concordance for  joie\n",
      "Displaying 10 of 35 matches:\n",
      "ichel nous a reçus sans témoigner de joie très simple il semblait craindre tou\n",
      "urent sans rires mais non sans grave joie tant la paix qu en obtint mon père f\n",
      "e qui me plaisait surtout c était la joie de marceline ma fatigue cependant de\n",
      " marceline cependant qui voyait avec joie ma santé enfin revenir commençait de\n",
      "autre chose que de l amusement de la joie quand j eus laissé à moktir tout le \n",
      "jeux l aliment qu il fallait pour ma joie je retournai vers marceline l exalta\n",
      "on de mon esprit et de mes sens à la joie qu elle en eut je m aperçus qu elle \n",
      "chaque pas m encombrait empêchant ma joie je ne pouvais voir un théâtre grec u\n",
      " me découvrais autre et j existais ô joie en dehors d elles en tant que spécia\n",
      "arais aux palimpsestes je goûtais la joie du savant qui sous les écritures plu\n",
      "\n",
      "Running Secondary concordances for  joies\n",
      "Displaying 4 of 4 matches:\n",
      "it regrets remords repentirs ce sont joies de naguère vues de dos je n aime pas\n",
      "t je pense aussi qu il est de fortes joies pour les forts et de faibles joies p\n",
      "s joies pour les forts et de faibles joies pour les faibles que les fortes joie\n",
      "oies pour les faibles que les fortes joies blesseraient elle un rien de plaisir\n",
      "\n",
      "word matches for  plaisir :  {'plaisirs'}\n",
      "\n",
      "Running Primary concordance for  plaisir\n",
      "Displaying 10 of 16 matches:\n",
      "is j essayai de jouer quand même le plaisir de bachir me charmait enfin je n en\n",
      "oût est vaincu je finis par trouver plaisir à cette dissimulation même à m y at\n",
      "s arrêter qu à paris je trouvais un plaisir tout neuf à parler d avenir avec ma\n",
      "cours mes travaux sur cassiodore le plaisir que j allais faire à marceline en f\n",
      " ouvriers de sorte que la partie de plaisir d une pêche s ajoutait cette fois a\n",
      "ce travail le bel aspect fervent du plaisir brusquement et je ne sais comment i\n",
      "même un autre cheval de la ferme le plaisir de l accompagner m emporta que je f\n",
      "llant dirigeant les travaux prenant plaisir à commander cependant dans les prés\n",
      "vai à causer avec eux guère plus de plaisir et pas plus d émotion qu à feuillet\n",
      " l exquise grâce de marceline et le plaisir de converser entre eux car pour moi\n",
      "\n",
      "Running Secondary concordances for  plaisirs\n",
      "Displaying 2 of 2 matches:\n",
      "de me voir m attrister au récit de plaisirs dont je n aurais pu jouir déjà mai\n",
      "es surveillais amoureusement leurs plaisirs c était dans une sorte de sympathi\n",
      "\n",
      "word matches for  allégresse :  set()\n",
      "\n",
      "Running Primary concordance for  allégresse\n",
      "Displaying 2 of 2 matches:\n",
      "archais dans une sorte d extase d allégresse silencieuse d exaltation des sens\n",
      " voleur dehors oh j aurais crié d allégresse qu allais je faire je ne sais pas\n",
      "\n",
      "word matches for  bonheur :  set()\n",
      "\n",
      "Running Primary concordance for  bonheur\n",
      "Displaying 10 of 30 matches:\n",
      " de la peine peut être que c est le bonheur nous restons auprès de michel nous \n",
      "isait à mes yeux pour assurer notre bonheur et m ignorant encore moi même je cr\n",
      " un livre anglais qu elle avait par bonheur emporté je revins m asseoir auprès \n",
      "on pût être et l esprit engourdi de bonheur iv marceline cependant qui voyait a\n",
      " plus pleine vers un plus savoureux bonheur viii la route de ravello à sorrente\n",
      "t qu elle fait pour ressusciter son bonheur l use que rien n empêche le bonheur\n",
      "bonheur l use que rien n empêche le bonheur comme le souvenir du bonheur hélas \n",
      "che le bonheur comme le souvenir du bonheur hélas je me souviens de cette nuit \n",
      "avais je jamais goûté tel repos tel bonheur en goûterais je pareils désormais j\n",
      "harmants et mille prévenances notre bonheur durant cette fin de voyage fut si é\n"
     ]
    },
    {
     "data": {
      "text/plain": [
       "[['bonheur', None, [], <ConcordanceIndex for 7 tokens (6 types)>]]"
      ]
     },
     "execution_count": 26,
     "metadata": {},
     "output_type": "execute_result"
    }
   ],
   "source": [
    "lImmoraliste = \"/Users/kaylinland/Documents/RAshipSinclair/Fortier/SampleDocs/L'Immoraliste.text\"\n",
    "fileinput2(lImmoraliste, \"bonheur\")"
   ]
  },
  {
   "cell_type": "code",
   "execution_count": 25,
   "metadata": {},
   "outputs": [
    {
     "data": {
      "text/plain": [
       "{'allégresse', 'bonheur', 'félicité', 'joie', 'plaisir'}"
      ]
     },
     "execution_count": 25,
     "metadata": {},
     "output_type": "execute_result"
    }
   ],
   "source": [
    "synonyms (\"bonheur\")"
   ]
  },
  {
   "cell_type": "markdown",
   "metadata": {},
   "source": [
    "Known issues: synonyms that include unnecessary information after # and issues with UTF-8 with some French characters"
   ]
  },
  {
   "cell_type": "code",
   "execution_count": 38,
   "metadata": {},
   "outputs": [
    {
     "name": "stdout",
     "output_type": "stream",
     "text": [
      "[Synset(Id: eng-30-09559769-n, Literals: [Buongiorno (lrec12mllexwn(100.000)), Nox (0/1:enwikipedia;gwa2012(0.24269904402753086914)), noirceur (0/1:enwiktionary), nuit (0/1:frwiktionary), nuitée (0/2:enwiktionary,frwiktionary), obscurité (0/1:enwiktionary), soirée (0/1:enwiktionary)], Def.: Roman goddess of night; daughter of Erebus; counterpart of Greek Nyx, Usages: [], POS: n, Hypernyms: ['eng-30-09552681-n'], Instance Hypernyms: ['eng-30-09552681-n']), Synset(Id: eng-30-13983717-n, Literals: [nuit (gwa2012(0.12777375123480166907);lrec12mllexwn(2.349)), soirée (lrec12mllexwn(1.344))], Def.: darkness, Usages: ['it vanished into the night'], POS: n, Hypernyms: ['eng-30-13983515-n']), Synset(Id: eng-30-15155747-n, Literals: [nuit (62/5:fr.csbgen,fr.csen,fr.rocsbgen,fr.rocsen,fr.roen;gwa2012(0.51938766316449336280);lrec12mllexwn(2.349)), soirée (lrec12mllexwn(1.344))], Def.: the dark part of the diurnal cycle considered a time unit, Usages: ['three nights later he collapsed'], POS: n, Hypernyms: ['eng-30-15154774-n']), Synset(Id: eng-30-15167027-n, Literals: [nuit (62/5:fr.csbgen,fr.csen,fr.rocsbgen,fr.rocsen,fr.roen;gwa2012(0.35945128553109806369);lrec12mllexwn(2.349);ManVal2012OK), obscurité (lrec12mllexwn(2.422);ManVal2012AN), sombre (lrec12mllexwn(1.524);ManVal2012AN)], Def.: the time after sunset and before sunrise while it is dark outside, Usages: [], POS: n, Hypernyms: ['eng-30-15113229-n']), Synset(Id: eng-30-15167349-n, Literals: [nuit (34/1:fr.roen;gwa2012(0.33626949198832006838);lrec12mllexwn(2.349);ManVal2012OK)], Def.: the time between sunset and midnight, Usages: ['he watched television every night'], POS: n, Hypernyms: ['eng-30-15113229-n']), Synset(Id: eng-30-15167474-n, Literals: [nuit (14/2:fr.csbgen,fr.csen;gwa2012(0.33626949198832006838);lrec12mllexwn(2.349);ManVal2012OK)], Def.: the period spent sleeping, Usages: ['I had a restless night'], POS: n, Hypernyms: ['eng-30-15113229-n']), Synset(Id: eng-30-15167577-n, Literals: [nuit (9/1:fr.csen;gwa2012(0.33626949198832006838);lrec12mllexwn(2.349);ManVal2012OK)], Def.: a period of ignorance or backwardness or gloom, Usages: [], POS: n, Hypernyms: ['eng-30-15113229-n']), Synset(Id: eng-30-15169759-n, Literals: [nuit (gwa2012(0.83860168071196783401);lrec12clwolf(1.5882);lrec12mllexwn(2.349)), soir (lrec12clwolf(1.5882)), soirée (lrec12mllexwn(1.344))], Def.: a shortening of nightfall, Usages: ['they worked from morning to night'], POS: n, Hypernyms: ['eng-30-15169421-n'])]\n"
     ]
    }
   ],
   "source": [
    "from frenetic import * #Import API for using WOLF French wordnet in Python\n",
    "fwn = FreNetic(\"/Users/kaylinland/Documents/RAshipSinclair/Fortier/wolf-1.0b4.xml\")\n",
    "synset = fwn.synsets(\"nuit\")#create synset object\n",
    "print(synset)\n"
   ]
  },
  {
   "cell_type": "code",
   "execution_count": 39,
   "metadata": {},
   "outputs": [
    {
     "data": {
      "text/plain": [
       "Synset(Id: eng-30-09559769-n, Literals: [Buongiorno (lrec12mllexwn(100.000)), Nox (0/1:enwikipedia;gwa2012(0.24269904402753086914)), noirceur (0/1:enwiktionary), nuit (0/1:frwiktionary), nuitée (0/2:enwiktionary,frwiktionary), obscurité (0/1:enwiktionary), soirée (0/1:enwiktionary)], Def.: Roman goddess of night; daughter of Erebus; counterpart of Greek Nyx, Usages: [], POS: n, Hypernyms: ['eng-30-09552681-n'], Instance Hypernyms: ['eng-30-09552681-n'])"
      ]
     },
     "execution_count": 39,
     "metadata": {},
     "output_type": "execute_result"
    }
   ],
   "source": [
    "synset[0]"
   ]
  },
  {
   "cell_type": "code",
   "execution_count": 40,
   "metadata": {},
   "outputs": [
    {
     "data": {
      "text/plain": [
       "'Buongiorno'"
      ]
     },
     "execution_count": 40,
     "metadata": {},
     "output_type": "execute_result"
    }
   ],
   "source": [
    "str(synset[0].literals()[0]).split(' ')[0]#isolate literals "
   ]
  },
  {
   "cell_type": "code",
   "execution_count": 43,
   "metadata": {},
   "outputs": [
    {
     "name": "stdout",
     "output_type": "stream",
     "text": [
      "Buongiorno\n",
      "Nox\n",
      "noirceur\n",
      "nuit\n",
      "nuitée\n",
      "obscurité\n",
      "soirée\n",
      "nuit\n",
      "soirée\n",
      "nuit\n",
      "soirée\n",
      "nuit\n",
      "obscurité\n",
      "sombre\n",
      "nuit\n",
      "nuit\n",
      "nuit\n",
      "nuit\n",
      "soir\n",
      "soirée\n"
     ]
    }
   ],
   "source": [
    "for synx in synset: #get list of all literals for chosen synset\n",
    "    for sy in synx.literals():\n",
    "        print(str(sy).split(' ')[0])"
   ]
  },
  {
   "cell_type": "code",
   "execution_count": null,
   "metadata": {},
   "outputs": [],
   "source": []
  }
 ],
 "metadata": {
  "kernelspec": {
   "display_name": "Python 3",
   "language": "python",
   "name": "python3"
  },
  "language_info": {
   "codemirror_mode": {
    "name": "ipython",
    "version": 3
   },
   "file_extension": ".py",
   "mimetype": "text/x-python",
   "name": "python",
   "nbconvert_exporter": "python",
   "pygments_lexer": "ipython3",
   "version": "3.7.0"
  }
 },
 "nbformat": 4,
 "nbformat_minor": 2
}
