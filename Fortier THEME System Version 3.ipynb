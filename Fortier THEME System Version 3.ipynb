{
 "cells": [
  {
   "cell_type": "markdown",
   "metadata": {},
   "source": [
    "Import all necessary documentation. Choose text for use in THEME system. Text must be in .txt format, UTF-8 encoding. Ensure .txt file is located in locatable directory and that notebook is also in this directory. The user must also download TreeTagger and all associated French parameter files. See here for directions: https://www.cis.uni-muenchen.de/~schmid/tools/TreeTagger/. TreeTagger was chosen for part of speech tagging because it reliably tags French POS and also provides a lemma for each tagged word. "
   ]
  },
  {
   "cell_type": "code",
   "execution_count": 2,
   "metadata": {},
   "outputs": [
    {
     "name": "stdout",
     "output_type": "stream",
     "text": [
      "mkdir: cmd: File exists\n",
      "mkdir: lib: File exists\n",
      "mkdir: bin: File exists\n",
      "mkdir: doc: File exists\n",
      "\n",
      "TreeTagger version for Mac OS-X installed.\n",
      "Tagging scripts installed.\n",
      "French parameter file installed.\n",
      "Path variables modified in tagging scripts.\n",
      "\n",
      "You might want to add /Users/kaylinland/Documents/RAshipSinclair/Fortier/TreeTagger/cmd and /Users/kaylinland/Documents/RAshipSinclair/Fortier/TreeTagger/bin to the PATH variable so that you do not need to specify the full path to run the tagging scripts.\n",
      "\n"
     ]
    }
   ],
   "source": [
    "import os, re #to determine directories and use regex\n",
    "os.getcwd()\n",
    "os.chdir(\"/Users/kaylinland/Documents/RAshipSinclair/Fortier/TreeTagger\")#navigate to directory with TreeTagger files\n",
    "import nltk\n",
    "import sys\n",
    "!sh install-tagger.sh #install TreeTagger\n",
    "from treetagger import TreeTagger #call TreeTagger\n",
    "\n"
   ]
  },
  {
   "cell_type": "code",
   "execution_count": 3,
   "metadata": {},
   "outputs": [],
   "source": [
    "def fileinput(filename, keyword): #function allows user to input .txt file as filename and search word as keyword\n",
    "    file = open(filename, \"r\")\n",
    "    filestring = file.read()\n",
    "    \n",
    "    regTokenizer = nltk.RegexpTokenizer(r'''\\w'|\\w+|[^\\w\\s]''')#French tokenizer accounts for liaisons\n",
    "    tokens1 = regTokenizer.tokenize(filestring.lower())#tokenize all words in .txt file and make lowercase\n",
    "    tokens2 = [word for word in tokens1 if word[0].isalpha()]#removes all non-alphabetical words like numbers\n",
    "    \n",
    "    tt = TreeTagger(\"/Users/kaylinland/Documents/RAshipSinclair/Fortier/TreeTagger/\", language='french')#call TreeTagger\n",
    "    treetags = tt.tag(tokens2)\n",
    "    punctag = re.compile(\"PUN\")#create regex object to filter out POS tags that are not needed in THEME system\n",
    "    senttag = re.compile(\"SENT\")#regex object for sentence tagger\n",
    "    numtag = re.compile(\"NUM\")#regex object for number tag\n",
    "    symtag = re.compile(\"SYM\")#regex object for symbol\n",
    "    treetokens = [x for x in treetags if not (punctag.search(x[1]))\n",
    "            or senttag.search(x[1] or numtag.search(x[1]) or symtag.search(x[1]))]#remove unneeded POS tags\n",
    "    \n",
    "    matchset = set()#create set \n",
    "    for i, (word, pos, lemma) in enumerate(treetokens): \n",
    "        if lemma == keyword and word != keyword: \n",
    "            matchset.add(word)#create set if lemma from text matches input keyword \n",
    "    \n",
    "    print(\"\\nword matches: \", matchset)#print results\n",
    "    \n",
    "    textObject = nltk.Text(tokens2)#create nltk object for list of tokens\n",
    "    print(\"\\nRunning Primary concordance for \", keyword)\n",
    "    primaryConcordance = textObject.concordance(keyword, lines=10)#creates Primary Concordance from text. Primary concordance is all concordances in instances where keyword appears as lemma\n",
    "    secondaryConcordance = [] #secondaryConcordance creates concordances that include all inflections of inputed keyword\n",
    "    for lemmamatch in matchset: \n",
    "        print(\"\\nRunning Secondary concordances for \", lemmamatch)\n",
    "        secondaryConcordance.append(textObject.concordance(lemmamatch, lines=10))#Secondary concordance\n",
    "    textConcordancePositions = nltk.ConcordanceIndex(keyword)#add location of keywords in text\n",
    "    return([primaryConcordance, secondaryConcordance])#return all concordances"
   ]
  },
  {
   "cell_type": "code",
   "execution_count": 4,
   "metadata": {},
   "outputs": [],
   "source": [
    "isabelleGide = \"/Users/kaylinland/Documents/RAshipSinclair/Fortier/Isabelle_Gide.txt\" #define sample file"
   ]
  },
  {
   "cell_type": "code",
   "execution_count": 6,
   "metadata": {},
   "outputs": [
    {
     "name": "stdout",
     "output_type": "stream",
     "text": [
      "\n",
      "word matches:  {'aimais', 'aimait', 'aime', 'aimerais', 'aimez', 'aimaient'}\n",
      "\n",
      "Running Primary concordance for  aimer\n",
      "Displaying 2 of 2 matches:\n",
      "ent occupe par l' attente pouvais je aimer vraiment isabelle non sans doute mai\n",
      "nsais je est ce la comme elle savait aimer a present je ramassais les menus obj\n",
      "\n",
      "Running Secondary concordances for  aimais\n",
      "Displaying 2 of 2 matches:\n",
      "rais l' amour je me figurais que j' aimais et tout heureux d' etre amoureux m'\n",
      "e pas vous revoir parce que je vous aimais bien mais je ne vous oublie pas vot\n",
      "\n",
      "Running Secondary concordances for  aimait\n",
      "Displaying 1 of 1 matches:\n",
      "' abord mon oncle est mort qui vous aimait bien et puis dimanche apres ma tant\n",
      "\n",
      "Running Secondary concordances for  aime\n",
      "Displaying 7 of 7 matches:\n",
      "sance cher monsieur lacase j' aurais aime que vous causiez avec casimir pour v\n",
      "gne parait un peu severe a quiconque aime beaucoup causer puis on s' y fait ce\n",
      "allait qu elle s' en aile elle ne t' aime donc pas oh si elle m' aime beaucoup\n",
      "le ne t' aime donc pas oh si elle m' aime beaucoup cria t il brusquement ecart\n",
      " delphine la femme de gratien qui m' aime bien et ca ete tres triste parce que\n",
      "core bien vieux mais j' aurais mieux aime mourir avant d' avoir vu tout cela q\n",
      "vaille j' etais eleve de thalberg j' aime aussi beaucoup la poesie et comme je\n",
      "\n",
      "Running Secondary concordances for  aimerais\n",
      "Displaying 1 of 1 matches:\n",
      "ais enfin cher monsieur l' abbe j' aimerais bien savoir si ce n' est pas cette\n",
      "\n",
      "Running Secondary concordances for  aimez\n",
      "Displaying 2 of 2 matches:\n",
      "ens les poetes les orateurs que vous aimez ni sur la forme de gouvernement que \n",
      " autres habits et qu est ce que vous aimez lire les grands voyages puis tournan\n",
      "\n",
      "Running Secondary concordances for  aimaient\n",
      "Displaying 1 of 1 matches:\n",
      " ni la cuisiniere ni gratien ne m' aimaient mes avances reiterees n' avaient p\n"
     ]
    }
   ],
   "source": [
    "p1concords, p2concords = fileinput(isabelleGide, \"aimer\")#test the function"
   ]
  },
  {
   "cell_type": "code",
   "execution_count": 12,
   "metadata": {},
   "outputs": [
    {
     "name": "stdout",
     "output_type": "stream",
     "text": [
      "\n",
      "word matches:  {'violences'}\n",
      "\n",
      "Running Primary concordance for  violence\n",
      "Displaying 8 of 8 matches:\n",
      "e ne semble montrer d abord que la violence des hommes puissans amp l oppressi\n",
      " moment où le droit succédant à la violence la nature fut soumise à la loi d e\n",
      "oppression les uns domineront avec violence les autres gémiront asservis à tou\n",
      " domination amp la servitude ou la violence amp les rapines les riches de leur\n",
      "elles n ont été fondées que sur la violence amp que par conséquent elles sont \n",
      "tablir l esclavage il a falu faire violence à la nature il a falu la changer p\n",
      " il n a point à réclamer contre la violence l émeute qui finit par étrangler o\n",
      "me arrachent à la vie avant qu une violence barbare les force à la passer dans\n",
      "\n",
      "Running Secondary concordances for  violences\n",
      "Displaying 2 of 2 matches:\n",
      " la justice qu ils regardoient les violences qu ils pouvoient essuyer comme un \n",
      "parer peuvent se faire beaucoup de violences mutuelles quand il leur en revient\n"
     ]
    }
   ],
   "source": [
    "rousseauText = \"/Users/kaylinland/Documents/RAshipSinclair/Fortier/rousseau.txt\"#test second file\n",
    "p1concords, p2concords = fileinput(rousseauText, \"violence\")"
   ]
  },
  {
   "cell_type": "code",
   "execution_count": null,
   "metadata": {},
   "outputs": [],
   "source": []
  }
 ],
 "metadata": {
  "kernelspec": {
   "display_name": "Python 3",
   "language": "python",
   "name": "python3"
  },
  "language_info": {
   "codemirror_mode": {
    "name": "ipython",
    "version": 3
   },
   "file_extension": ".py",
   "mimetype": "text/x-python",
   "name": "python",
   "nbconvert_exporter": "python",
   "pygments_lexer": "ipython3",
   "version": "3.7.0"
  }
 },
 "nbformat": 4,
 "nbformat_minor": 2
}
